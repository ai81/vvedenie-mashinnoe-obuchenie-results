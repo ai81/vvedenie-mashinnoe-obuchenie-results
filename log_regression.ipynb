{
 "cells": [
  {
   "cell_type": "code",
   "execution_count": 17,
   "metadata": {},
   "outputs": [],
   "source": [
    "from sklearn import datasets\n",
    "import numpy as np\n",
    "import pandas as pd\n",
    "import sklearn\n",
    "from sklearn.model_selection import KFold, cross_val_score\n",
    "from sklearn.preprocessing import scale\n",
    "from sklearn.model_selection import GridSearchCV\n",
    "import math\n",
    "from sklearn.metrics import roc_auc_score\n",
    "from scipy.spatial.distance import euclidean"
   ]
  },
  {
   "cell_type": "code",
   "execution_count": 9,
   "metadata": {},
   "outputs": [],
   "source": [
    "df = pd.read_csv(\"data-logistic.csv\", names=[\"target\", \"w1\", \"w2\"])"
   ]
  },
  {
   "cell_type": "code",
   "execution_count": 53,
   "metadata": {},
   "outputs": [
    {
     "data": {
      "text/plain": [
       "-0.66382653682499992"
      ]
     },
     "execution_count": 53,
     "metadata": {},
     "output_type": "execute_result"
    }
   ],
   "source": [
    "y = df.target\n",
    "X = df.drop(\"target\", axis=1)"
   ]
  },
  {
   "cell_type": "code",
   "execution_count": 57,
   "metadata": {},
   "outputs": [],
   "source": [
    "def step(col, name, W, k, X, y, C):\n",
    "    l = X.count()[0]\n",
    "    sum = 0\n",
    "    for i in range(l):\n",
    "       sum += y[i] * X[name][i] * (1 - 1 / (1 + math.exp(-y[i] * (W[0] * X.w1[i] + W[1] * X.w2[i]))))    \n",
    "    main = k  / l * sum\n",
    "    regularization = k * C * W[col]\n",
    "    return W[col] + main - regularization"
   ]
  },
  {
   "cell_type": "code",
   "execution_count": 93,
   "metadata": {},
   "outputs": [],
   "source": [
    "def learn(C, y, X, k = 0.1, w = pd.Series([0, 0])):\n",
    "    max_iter = 10000\n",
    "    epsilon = 1e-5\n",
    "    index = 0\n",
    "    w_last = pd.Series([1000, 10000])\n",
    "    l = X.count()[0]\n",
    "    while index < max_iter and euclidean(w, w_last) > epsilon:\n",
    "        w_last = w\n",
    "        w1 = step(0, \"w1\", w, k, X, y, C)\n",
    "        w2 = step(1, \"w2\", w, k, X, y, C)\n",
    "        w = pd.Series([w1, w2])\n",
    "        index += 1\n",
    "    print(f\"Total steps: {index}, diff: {euclidean(w, w_last)}\")\n",
    "    return w"
   ]
  },
  {
   "cell_type": "code",
   "execution_count": 67,
   "metadata": {},
   "outputs": [
    {
     "name": "stdout",
     "output_type": "stream",
     "text": [
      "Total steps: 244, diff: 9.802349781627123e-06\n"
     ]
    },
    {
     "data": {
      "text/plain": [
       "0    0.287812\n",
       "1    0.091983\n",
       "dtype: float64"
      ]
     },
     "execution_count": 67,
     "metadata": {},
     "output_type": "execute_result"
    }
   ],
   "source": [
    "w_without_reg = learn(0, y, X)\n",
    "w_without_reg"
   ]
  },
  {
   "cell_type": "code",
   "execution_count": 94,
   "metadata": {},
   "outputs": [
    {
     "name": "stdout",
     "output_type": "stream",
     "text": [
      "Total steps: 8, diff: 4.763189139558198e-06\n"
     ]
    },
    {
     "data": {
      "text/plain": [
       "0    0.028559\n",
       "1    0.024780\n",
       "dtype: float64"
      ]
     },
     "execution_count": 94,
     "metadata": {},
     "output_type": "execute_result"
    }
   ],
   "source": [
    "w_with_reg = learn(10, y, X)\n",
    "w_with_reg"
   ]
  },
  {
   "cell_type": "code",
   "execution_count": 77,
   "metadata": {},
   "outputs": [],
   "source": [
    "#def  a(W x) = 1 / (1 + exp(-w1 x1 - w2 x2))\n",
    "#a_without_reg = \n",
    "def a(w):\n",
    "    return X.apply(lambda x: 1 / (1 + math.exp(-x.w1 * w[0]  - x.w2 * w[1])), axis=1)"
   ]
  },
  {
   "cell_type": "code",
   "execution_count": 79,
   "metadata": {},
   "outputs": [],
   "source": [
    "a_wihtout_reg = a(w_without_reg)\n",
    "a_with_reg = a(w_with_reg)"
   ]
  },
  {
   "cell_type": "code",
   "execution_count": 81,
   "metadata": {},
   "outputs": [
    {
     "data": {
      "text/plain": [
       "0.92685714285714282"
      ]
     },
     "execution_count": 81,
     "metadata": {},
     "output_type": "execute_result"
    }
   ],
   "source": [
    "roc_auc_score(y, a_wihtout_reg)"
   ]
  },
  {
   "cell_type": "code",
   "execution_count": 82,
   "metadata": {},
   "outputs": [
    {
     "data": {
      "text/plain": [
       "0.93628571428571417"
      ]
     },
     "execution_count": 82,
     "metadata": {},
     "output_type": "execute_result"
    }
   ],
   "source": [
    "roc_auc_score(y, a_with_reg)"
   ]
  },
  {
   "cell_type": "code",
   "execution_count": 83,
   "metadata": {},
   "outputs": [],
   "source": [
    "with open(\"log_regression_res.txt\", \"w\") as f:\n",
    "    print(\"%.3f %.3f\" % (roc_auc_score(y, a_wihtout_reg), roc_auc_score(y, a_with_reg)), file=f, end='')"
   ]
  },
  {
   "cell_type": "code",
   "execution_count": 100,
   "metadata": {},
   "outputs": [
    {
     "name": "stdout",
     "output_type": "stream",
     "text": [
      "Total steps: 10, diff: 3.1039501171097285e-06\n"
     ]
    },
    {
     "data": {
      "text/plain": [
       "0    0.028560\n",
       "1    0.024781\n",
       "dtype: float64"
      ]
     },
     "execution_count": 100,
     "metadata": {},
     "output_type": "execute_result"
    }
   ],
   "source": [
    "learn(10, y, X, 0.1, pd.Series([20, 20]))"
   ]
  },
  {
   "cell_type": "code",
   "execution_count": null,
   "metadata": {},
   "outputs": [],
   "source": []
  }
 ],
 "metadata": {
  "kernelspec": {
   "display_name": "Python 3",
   "language": "python",
   "name": "python3"
  },
  "language_info": {
   "codemirror_mode": {
    "name": "ipython",
    "version": 3
   },
   "file_extension": ".py",
   "mimetype": "text/x-python",
   "name": "python",
   "nbconvert_exporter": "python",
   "pygments_lexer": "ipython3",
   "version": "3.6.2"
  }
 },
 "nbformat": 4,
 "nbformat_minor": 2
}
