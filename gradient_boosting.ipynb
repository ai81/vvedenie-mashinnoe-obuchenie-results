{
 "cells": [
  {
   "cell_type": "code",
   "execution_count": 40,
   "metadata": {},
   "outputs": [],
   "source": [
    "from sklearn import datasets\n",
    "import numpy as np\n",
    "import pandas as pd\n",
    "import sklearn\n",
    "from sklearn.model_selection import KFold, cross_val_score, train_test_split\n",
    "from sklearn.preprocessing import scale\n",
    "from sklearn.model_selection import GridSearchCV\n",
    "import math\n",
    "from sklearn.metrics import roc_auc_score\n",
    "from scipy.spatial.distance import euclidean\n",
    "from functools import reduce\n",
    "from sklearn.metrics import accuracy_score, precision_score, recall_score, f1_score, precision_recall_curve, log_loss\n",
    "from sklearn.feature_extraction.text import TfidfVectorizer\n",
    "from sklearn.linear_model import Ridge\n",
    "from sklearn.feature_extraction import DictVectorizer\n",
    "from scipy.sparse import hstack\n",
    "from sklearn.decomposition import PCA\n",
    "from sklearn.ensemble import RandomForestRegressor, GradientBoostingClassifier, RandomForestClassifier\n",
    "from sklearn.metrics import r2_score\n",
    "from scipy.stats import logistic\n",
    "import matplotlib.pyplot as plt\n",
    "%matplotlib inline"
   ]
  },
  {
   "cell_type": "code",
   "execution_count": 5,
   "metadata": {},
   "outputs": [
    {
     "data": {
      "text/html": [
       "<div>\n",
       "<style>\n",
       "    .dataframe thead tr:only-child th {\n",
       "        text-align: right;\n",
       "    }\n",
       "\n",
       "    .dataframe thead th {\n",
       "        text-align: left;\n",
       "    }\n",
       "\n",
       "    .dataframe tbody tr th {\n",
       "        vertical-align: top;\n",
       "    }\n",
       "</style>\n",
       "<table border=\"1\" class=\"dataframe\">\n",
       "  <thead>\n",
       "    <tr style=\"text-align: right;\">\n",
       "      <th></th>\n",
       "      <th>Activity</th>\n",
       "      <th>D1</th>\n",
       "      <th>D2</th>\n",
       "      <th>D3</th>\n",
       "      <th>D4</th>\n",
       "      <th>D5</th>\n",
       "      <th>D6</th>\n",
       "      <th>D7</th>\n",
       "      <th>D8</th>\n",
       "      <th>D9</th>\n",
       "      <th>...</th>\n",
       "      <th>D1767</th>\n",
       "      <th>D1768</th>\n",
       "      <th>D1769</th>\n",
       "      <th>D1770</th>\n",
       "      <th>D1771</th>\n",
       "      <th>D1772</th>\n",
       "      <th>D1773</th>\n",
       "      <th>D1774</th>\n",
       "      <th>D1775</th>\n",
       "      <th>D1776</th>\n",
       "    </tr>\n",
       "  </thead>\n",
       "  <tbody>\n",
       "    <tr>\n",
       "      <th>0</th>\n",
       "      <td>1</td>\n",
       "      <td>0.000000</td>\n",
       "      <td>0.497009</td>\n",
       "      <td>0.10</td>\n",
       "      <td>0.0</td>\n",
       "      <td>0.132956</td>\n",
       "      <td>0.678031</td>\n",
       "      <td>0.273166</td>\n",
       "      <td>0.585445</td>\n",
       "      <td>0.743663</td>\n",
       "      <td>...</td>\n",
       "      <td>0</td>\n",
       "      <td>0</td>\n",
       "      <td>0</td>\n",
       "      <td>0</td>\n",
       "      <td>0</td>\n",
       "      <td>0</td>\n",
       "      <td>0</td>\n",
       "      <td>0</td>\n",
       "      <td>0</td>\n",
       "      <td>0</td>\n",
       "    </tr>\n",
       "    <tr>\n",
       "      <th>1</th>\n",
       "      <td>1</td>\n",
       "      <td>0.366667</td>\n",
       "      <td>0.606291</td>\n",
       "      <td>0.05</td>\n",
       "      <td>0.0</td>\n",
       "      <td>0.111209</td>\n",
       "      <td>0.803455</td>\n",
       "      <td>0.106105</td>\n",
       "      <td>0.411754</td>\n",
       "      <td>0.836582</td>\n",
       "      <td>...</td>\n",
       "      <td>1</td>\n",
       "      <td>1</td>\n",
       "      <td>1</td>\n",
       "      <td>1</td>\n",
       "      <td>0</td>\n",
       "      <td>1</td>\n",
       "      <td>0</td>\n",
       "      <td>0</td>\n",
       "      <td>1</td>\n",
       "      <td>0</td>\n",
       "    </tr>\n",
       "    <tr>\n",
       "      <th>2</th>\n",
       "      <td>1</td>\n",
       "      <td>0.033300</td>\n",
       "      <td>0.480124</td>\n",
       "      <td>0.00</td>\n",
       "      <td>0.0</td>\n",
       "      <td>0.209791</td>\n",
       "      <td>0.610350</td>\n",
       "      <td>0.356453</td>\n",
       "      <td>0.517720</td>\n",
       "      <td>0.679051</td>\n",
       "      <td>...</td>\n",
       "      <td>0</td>\n",
       "      <td>0</td>\n",
       "      <td>0</td>\n",
       "      <td>0</td>\n",
       "      <td>0</td>\n",
       "      <td>0</td>\n",
       "      <td>0</td>\n",
       "      <td>0</td>\n",
       "      <td>0</td>\n",
       "      <td>0</td>\n",
       "    </tr>\n",
       "    <tr>\n",
       "      <th>3</th>\n",
       "      <td>1</td>\n",
       "      <td>0.000000</td>\n",
       "      <td>0.538825</td>\n",
       "      <td>0.00</td>\n",
       "      <td>0.5</td>\n",
       "      <td>0.196344</td>\n",
       "      <td>0.724230</td>\n",
       "      <td>0.235606</td>\n",
       "      <td>0.288764</td>\n",
       "      <td>0.805110</td>\n",
       "      <td>...</td>\n",
       "      <td>0</td>\n",
       "      <td>0</td>\n",
       "      <td>0</td>\n",
       "      <td>0</td>\n",
       "      <td>0</td>\n",
       "      <td>0</td>\n",
       "      <td>0</td>\n",
       "      <td>0</td>\n",
       "      <td>0</td>\n",
       "      <td>0</td>\n",
       "    </tr>\n",
       "    <tr>\n",
       "      <th>4</th>\n",
       "      <td>0</td>\n",
       "      <td>0.100000</td>\n",
       "      <td>0.517794</td>\n",
       "      <td>0.00</td>\n",
       "      <td>0.0</td>\n",
       "      <td>0.494734</td>\n",
       "      <td>0.781422</td>\n",
       "      <td>0.154361</td>\n",
       "      <td>0.303809</td>\n",
       "      <td>0.812646</td>\n",
       "      <td>...</td>\n",
       "      <td>0</td>\n",
       "      <td>0</td>\n",
       "      <td>0</td>\n",
       "      <td>0</td>\n",
       "      <td>0</td>\n",
       "      <td>0</td>\n",
       "      <td>0</td>\n",
       "      <td>0</td>\n",
       "      <td>0</td>\n",
       "      <td>0</td>\n",
       "    </tr>\n",
       "  </tbody>\n",
       "</table>\n",
       "<p>5 rows × 1777 columns</p>\n",
       "</div>"
      ],
      "text/plain": [
       "   Activity        D1        D2    D3   D4        D5        D6        D7  \\\n",
       "0         1  0.000000  0.497009  0.10  0.0  0.132956  0.678031  0.273166   \n",
       "1         1  0.366667  0.606291  0.05  0.0  0.111209  0.803455  0.106105   \n",
       "2         1  0.033300  0.480124  0.00  0.0  0.209791  0.610350  0.356453   \n",
       "3         1  0.000000  0.538825  0.00  0.5  0.196344  0.724230  0.235606   \n",
       "4         0  0.100000  0.517794  0.00  0.0  0.494734  0.781422  0.154361   \n",
       "\n",
       "         D8        D9  ...    D1767  D1768  D1769  D1770  D1771  D1772  D1773  \\\n",
       "0  0.585445  0.743663  ...        0      0      0      0      0      0      0   \n",
       "1  0.411754  0.836582  ...        1      1      1      1      0      1      0   \n",
       "2  0.517720  0.679051  ...        0      0      0      0      0      0      0   \n",
       "3  0.288764  0.805110  ...        0      0      0      0      0      0      0   \n",
       "4  0.303809  0.812646  ...        0      0      0      0      0      0      0   \n",
       "\n",
       "   D1774  D1775  D1776  \n",
       "0      0      0      0  \n",
       "1      0      1      0  \n",
       "2      0      0      0  \n",
       "3      0      0      0  \n",
       "4      0      0      0  \n",
       "\n",
       "[5 rows x 1777 columns]"
      ]
     },
     "execution_count": 5,
     "metadata": {},
     "output_type": "execute_result"
    }
   ],
   "source": [
    "df = pd.read_csv(\"gbm-data.csv\")\n",
    "df.head()"
   ]
  },
  {
   "cell_type": "code",
   "execution_count": 6,
   "metadata": {},
   "outputs": [],
   "source": [
    "y = df.Activity\n",
    "X = df.drop(\"Activity\", axis=1)"
   ]
  },
  {
   "cell_type": "code",
   "execution_count": 28,
   "metadata": {},
   "outputs": [],
   "source": [
    "X_train, X_test, y_train, y_test = train_test_split(X, y, test_size=0.8, random_state=241)"
   ]
  },
  {
   "cell_type": "code",
   "execution_count": 34,
   "metadata": {},
   "outputs": [],
   "source": [
    "def sigmoid_array(x):                                        \n",
    "    return 1 / (1 + np.exp(-x))"
   ]
  },
  {
   "cell_type": "code",
   "execution_count": 36,
   "metadata": {},
   "outputs": [
    {
     "name": "stdout",
     "output_type": "stream",
     "text": [
      "1\n",
      "      Iter       Train Loss   Remaining Time \n",
      "         1           1.0190           11.92s\n",
      "         2           0.9192           11.06s\n",
      "         3           0.8272            9.27s\n",
      "         4           0.7834            8.05s\n",
      "         5           0.7109            7.75s\n",
      "         6           0.6368            8.16s\n",
      "         7           0.5797            7.98s\n",
      "         8           0.5610            7.43s\n",
      "         9           0.5185            7.26s\n",
      "        10           0.4984            6.90s\n",
      "        20           0.1999            6.68s\n",
      "        30           0.1313            5.98s\n",
      "        40           0.0790            5.62s\n",
      "        50           0.0511            5.23s\n",
      "        60           0.0352            5.02s\n",
      "        70           0.0245            4.71s\n",
      "        80           0.0162            4.47s\n",
      "        90           0.0114            4.22s\n",
      "       100           0.0077            3.98s\n",
      "       200           0.0004            1.19s\n",
      "test: 0/0.5822942594278476 train: 180/0.00020857611394801452\n",
      "0.5\n",
      "      Iter       Train Loss   Remaining Time \n",
      "         1           1.1255           10.41s\n",
      "         2           1.0035           10.48s\n",
      "         3           0.9386           10.70s\n",
      "         4           0.8844            9.69s\n",
      "         5           0.8381            9.39s\n",
      "         6           0.7995            8.88s\n",
      "         7           0.7559            8.60s\n",
      "         8           0.7205            8.29s\n",
      "         9           0.6958            7.92s\n",
      "        10           0.6725            7.71s\n",
      "        20           0.4672            6.59s\n",
      "        30           0.3179            6.31s\n",
      "        40           0.2274            6.10s\n",
      "        50           0.1774            5.77s\n",
      "        60           0.1394            5.47s\n",
      "        70           0.1050            5.25s\n",
      "        80           0.0805            4.93s\n",
      "        90           0.0650            4.55s\n",
      "       100           0.0511            4.29s\n",
      "       200           0.0058            1.40s\n",
      "test: 6/0.5582025523164261 train: 249/0.001022368076368318\n",
      "0.3\n",
      "      Iter       Train Loss   Remaining Time \n",
      "         1           1.2095           10.44s\n",
      "         2           1.1006           10.44s\n",
      "         3           1.0240           10.65s\n",
      "         4           0.9729           10.64s\n",
      "         5           0.9387            9.80s\n",
      "         6           0.8948            9.95s\n",
      "         7           0.8621            9.56s\n",
      "         8           0.8360            9.28s\n",
      "         9           0.8171            8.76s\n",
      "        10           0.7883            8.55s\n",
      "        20           0.6164            7.19s\n",
      "        30           0.4933            6.70s\n",
      "        40           0.4248            6.11s\n",
      "        50           0.3345            5.94s\n",
      "        60           0.2760            5.61s\n",
      "        70           0.2263            5.32s\n",
      "        80           0.1971            4.93s\n",
      "        90           0.1693            4.61s\n",
      "       100           0.1388            4.38s\n",
      "       200           0.0294            1.46s\n",
      "test: 10/0.5423141110024554 train: 249/0.0068872910014473624\n",
      "0.2\n",
      "      Iter       Train Loss   Remaining Time \n",
      "         1           1.2613           10.36s\n",
      "         2           1.1715           10.39s\n",
      "         3           1.1009           10.44s\n",
      "         4           1.0529           10.47s\n",
      "         5           1.0130           10.77s\n",
      "         6           0.9740           10.81s\n",
      "         7           0.9475           10.05s\n",
      "         8           0.9197           10.12s\n",
      "         9           0.8979            9.62s\n",
      "        10           0.8730            9.65s\n",
      "        20           0.7207            7.74s\n",
      "        30           0.6055            6.91s\n",
      "        40           0.5244            6.41s\n",
      "        50           0.4501            6.00s\n",
      "        60           0.3908            5.59s\n",
      "        70           0.3372            5.28s\n",
      "        80           0.3009            4.99s\n",
      "        90           0.2603            4.74s\n",
      "       100           0.2327            4.40s\n",
      "       200           0.0835            1.40s\n",
      "test: 36/0.531094637596885 train: 249/0.024906124380084917\n",
      "0.1\n",
      "      Iter       Train Loss   Remaining Time \n",
      "         1           1.3199           11.11s\n",
      "         2           1.2645           11.47s\n",
      "         3           1.2170           11.57s\n",
      "         4           1.1775           11.24s\n",
      "         5           1.1404           11.00s\n",
      "         6           1.1106           10.97s\n",
      "         7           1.0844           11.02s\n",
      "         8           1.0617           10.87s\n",
      "         9           1.0411           10.76s\n",
      "        10           1.0223           10.76s\n",
      "        20           0.8864            9.38s\n",
      "        30           0.7844            8.07s\n",
      "        40           0.7176            7.07s\n",
      "        50           0.6590            6.43s\n",
      "        60           0.6120            5.84s\n",
      "        70           0.5599            5.46s\n",
      "        80           0.5242            5.01s\n",
      "        90           0.4829            4.70s\n",
      "       100           0.4473            4.36s\n",
      "       200           0.2379            1.39s\n",
      "test: 51/0.5269201872275844 train: 249/0.08936962416274086\n"
     ]
    },
    {
     "data": {
      "image/png": "[encoded data removed]",
      "text/plain": [
       "<matplotlib.figure.Figure at 0x1a27da3978>"
      ]
     },
     "metadata": {},
     "output_type": "display_data"
    },
    {
     "data": {
      "image/png": "[encoded data removed]",
      "text/plain": [
       "<matplotlib.figure.Figure at 0x1a27f0c160>"
      ]
     },
     "metadata": {},
     "output_type": "display_data"
    },
    {
     "data": {
      "image/png": "[encoded data removed]",
      "text/plain": [
       "<matplotlib.figure.Figure at 0x1a27f71e10>"
      ]
     },
     "metadata": {},
     "output_type": "display_data"
    },
    {
     "data": {
      "image/png": "[encoded data removed]",
      "text/plain": [
       "<matplotlib.figure.Figure at 0x1a27ff3e10>"
      ]
     },
     "metadata": {},
     "output_type": "display_data"
    },
    {
     "data": {
      "image/png": "[encoded data removed]",
      "text/plain": [
       "<matplotlib.figure.Figure at 0x1a27d991d0>"
      ]
     },
     "metadata": {},
     "output_type": "display_data"
    }
   ],
   "source": [
    "for learning_rate in [1, 0.5, 0.3, 0.2, 0.1]:\n",
    "    print(learning_rate)\n",
    "    clf = GradientBoostingClassifier(n_estimators=250, verbose=True, random_state=241, learning_rate=learning_rate)\n",
    "    clf.fit(X_train, y_train)\n",
    "    test_score = np.empty(len(clf.estimators_))\n",
    "    train_score = np.empty(len(clf.estimators_))\n",
    "    min_test_i = 0\n",
    "    min_test_val = 1000\n",
    "    for i, pred in enumerate(clf.staged_decision_function(X_test)):\n",
    "        test_score[i] = log_loss(y_test, sigmoid_array(pred))\n",
    "        if test_score[i] < min_test_val:\n",
    "            min_test_val = test_score[i]\n",
    "            min_test_i = i\n",
    "    min_train_i = 0\n",
    "    min_train_val = 1000\n",
    "    for i, pred in enumerate(clf.staged_decision_function(X_train)):\n",
    "        train_score[i] = log_loss(y_train, sigmoid_array(pred))\n",
    "        if train_score[i] < min_train_val:\n",
    "            min_train_val = train_score[i]\n",
    "            min_train_i = i\n",
    "    print(f\"test: {min_test_i}/{min_test_val} train: {min_train_i}/{min_train_val}\")\n",
    "    plt.figure()\n",
    "    plt.plot(test_score, 'r', linewidth=2)\n",
    "    plt.plot(train_score, 'g', linewidth=2)\n",
    "    plt.legend(['test', 'train'])"
   ]
  },
  {
   "cell_type": "code",
   "execution_count": 38,
   "metadata": {},
   "outputs": [],
   "source": [
    "with open(\"gradient_boosting_1_res.txt\", \"w\") as f:\n",
    "    print(\"overfitting\", file=f, end='')\n",
    "with open(\"gradient_boosting_2_res.txt\", \"w\") as f:\n",
    "    print(\"0.53 36\", file=f, end='')"
   ]
  },
  {
   "cell_type": "code",
   "execution_count": 43,
   "metadata": {},
   "outputs": [
    {
     "data": {
      "text/plain": [
       "RandomForestClassifier(bootstrap=True, class_weight=None, criterion='gini',\n",
       "            max_depth=None, max_features='auto', max_leaf_nodes=None,\n",
       "            min_impurity_decrease=0.0, min_impurity_split=None,\n",
       "            min_samples_leaf=1, min_samples_split=2,\n",
       "            min_weight_fraction_leaf=0.0, n_estimators=36, n_jobs=1,\n",
       "            oob_score=False, random_state=241, verbose=0, warm_start=False)"
      ]
     },
     "execution_count": 43,
     "metadata": {},
     "output_type": "execute_result"
    }
   ],
   "source": [
    "clf = RandomForestClassifier(random_state=241, n_estimators=36)\n",
    "clf.fit(X_train, y_train)"
   ]
  },
  {
   "cell_type": "code",
   "execution_count": 45,
   "metadata": {},
   "outputs": [
    {
     "name": "stdout",
     "output_type": "stream",
     "text": [
      "0.54138128618\n"
     ]
    }
   ],
   "source": [
    "pred = clf.predict_proba(X_test)\n",
    "loss = log_loss(y_test, pred)\n",
    "print(loss)"
   ]
  },
  {
   "cell_type": "code",
   "execution_count": 47,
   "metadata": {},
   "outputs": [],
   "source": [
    "with open(\"gradient_boosting_3_res.txt\", \"w\") as f:\n",
    "    print(\"%.2f\" % (loss), file=f, end='')"
   ]
  },
  {
   "cell_type": "code",
   "execution_count": 49,
   "metadata": {},
   "outputs": [
    {
     "name": "stdout",
     "output_type": "stream",
     "text": [
      "0.524480988114\n"
     ]
    }
   ],
   "source": [
    "clf2 = RandomForestClassifier(random_state=241, n_estimators=300)\n",
    "clf2.fit(X_train, y_train)\n",
    "pred = clf2.predict_proba(X_test)\n",
    "loss = log_loss(y_test, pred)\n",
    "print(loss)"
   ]
  },
  {
   "cell_type": "code",
   "execution_count": null,
   "metadata": {},
   "outputs": [],
   "source": []
  }
 ],
 "metadata": {
  "kernelspec": {
   "display_name": "Python 3",
   "language": "python",
   "name": "python3"
  },
  "language_info": {
   "codemirror_mode": {
    "name": "ipython",
    "version": 3
   },
   "file_extension": ".py",
   "mimetype": "text/x-python",
   "name": "python",
   "nbconvert_exporter": "python",
   "pygments_lexer": "ipython3",
   "version": "3.6.2"
  }
 },
 "nbformat": 4,
 "nbformat_minor": 2
}
